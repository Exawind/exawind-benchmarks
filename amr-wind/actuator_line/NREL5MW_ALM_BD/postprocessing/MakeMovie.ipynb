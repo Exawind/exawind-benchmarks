{
 "cells": [
  {
   "cell_type": "markdown",
   "id": "e1255930-6b1b-4be7-8a12-0c9abd2a4467",
   "metadata": {},
   "source": [
    "# Make a movie of the NREL5MW turbine"
   ]
  },
  {
   "cell_type": "code",
   "execution_count": 1,
   "id": "69a28a08-713a-4aa8-9f1a-c4806c958a59",
   "metadata": {},
   "outputs": [
    {
     "name": "stderr",
     "output_type": "stream",
     "text": [
      "/ascldap/users/lcheung/.local/lib/python3.9/site-packages/pandas/core/computation/expressions.py:21: UserWarning: Pandas requires version '2.8.4' or newer of 'numexpr' (version '2.8.1' currently installed).\n",
      "  from pandas.core.computation.check import NUMEXPR_INSTALLED\n",
      "/ascldap/users/lcheung/.local/lib/python3.9/site-packages/pandas/core/arrays/masked.py:60: UserWarning: Pandas requires version '1.3.6' or newer of 'bottleneck' (version '1.3.4' currently installed).\n",
      "  from pandas.core import (\n"
     ]
    }
   ],
   "source": [
    "# Add any possible locations of amr-wind-frontend here\n",
    "amrwindfedirs = ['/projects/wind_uq/lcheung/amrwind-frontend/',\n",
    "                  '/ccs/proj/cfd162/lcheung/amrwind-frontend/',\n",
    "                ]\n",
    "import sys, os, shutil, io\n",
    "import numpy as np\n",
    "for x in amrwindfedirs: sys.path.insert(1, x)\n",
    "\n",
    "from functools import partial\n",
    "import matplotlib.pyplot as plt\n",
    "import pandas as pd\n",
    "\n",
    "# Make all plots inline \n",
    "#%matplotlib inline\n",
    "\n",
    "import postproengine as ppeng\n",
    "\n",
    "import imageio\n",
    "import glob\n",
    "import cv2"
   ]
  },
  {
   "cell_type": "code",
   "execution_count": 2,
   "id": "fb26a88b-2bc9-40a3-be13-3231d70f9255",
   "metadata": {},
   "outputs": [],
   "source": [
    "# Load ruamel or pyyaml as needed\n",
    "try:\n",
    "    import ruamel.yaml\n",
    "    yaml = ruamel.yaml.YAML(typ='unsafe', pure=True)\n",
    "    useruamel=True\n",
    "    loaderkwargs = {'Loader':yaml.RoundTripLoader}\n",
    "    dumperkwargs = {'Dumper':yaml.RoundTripDumper, 'indent':4, 'default_flow_style':False}\n",
    "    Loader=yaml.load\n",
    "except:\n",
    "    import yaml as yaml\n",
    "    useruamel=False\n",
    "    loaderkwargs = {}\n",
    "    dumperkwargs = {'default_flow_style':False }\n",
    "    Loader=yaml.safe_load\n",
    "    \n",
    "def stringReplaceDict(s, dreplace):\n",
    "    outstr = str(s)\n",
    "    for k, g in dreplace.items():\n",
    "        outstr=outstr.replace(k, str(g))\n",
    "    return outstr\n",
    "    \n",
    "def formatTfig(fig,ax):\n",
    "    ax.set_xlim([300, 301])\n",
    "    return\n",
    "\n",
    "def addturbines(fig, ax):\n",
    "    outputcsv = '/pscratch/lcheung/AWAKEN/Benchmark1/Phase2/FarmRuns/prod1/BM2_FarmRunProd1newBC/turbines_farmrun.csv'\n",
    "    # Process the csv file\n",
    "    df = pd.read_csv(outputcsv)\n",
    "    # Fix the turbine types of the turbines\n",
    "    for index, row in df.iterrows():\n",
    "        ax.plot(row[' x'], row[' y'], 's', color='k', markersize=1)\n",
    "    return\n",
    "\n",
    "#ppeng.formatTfig = formatTfig\n",
    "#ppeng.addturbines = addturbines"
   ]
  },
  {
   "cell_type": "code",
   "execution_count": 3,
   "id": "07ca0286-ff38-47fc-9f8c-07f136073376",
   "metadata": {},
   "outputs": [],
   "source": [
    "replacedict={'RUNDIR':'/gpfs/lcheung/HFM/exawind-benchmarks/NREL5MW_ALM_BD_OFv402_ROSCO/',\n",
    "            }"
   ]
  },
  {
   "cell_type": "code",
   "execution_count": 4,
   "id": "8b7b5f72-adc6-44f8-a537-0a2e24fd4bf5",
   "metadata": {},
   "outputs": [],
   "source": [
    "yamlstring=\"\"\"\n",
    "globalattributes:\n",
    "  verbose: False\n",
    "  executeorder:\n",
    "  - instantaneousplanes\n",
    "\n",
    "instantaneousplanes:\n",
    "  - name: HHplot\n",
    "    ncfile: RUNDIR/post_processing/turbhh_30000.nc\n",
    "    iters:  [-1]\n",
    "    times: [15300, 15301, 15302, 15303, 15304, 15305]\n",
    "    iplane: 0\n",
    "    xaxis: a1\n",
    "    yaxis: a2\n",
    "    # --- optional stuff here ---\n",
    "    plot:\n",
    "      title: 'ABL $U_h$ T={time:0.1f}s'\n",
    "      plotfunc: \"lambda db,i: np.sqrt(db['velocityx'][i]**2 + db['velocityy'][i]**2)\"\n",
    "      clevels: 'np.linspace(0, 14, 141)'\n",
    "      #plotfunc: \"lambda db,i: db['velocityz'][i]\"\n",
    "      #clevels: 'np.linspace(-5, 5, 41)'\n",
    "      #postplotfunc: postproengine.addturbines\n",
    "      xscalefunc: 'lambda x: (x-126*4)/126.0'\n",
    "      yscalefunc: 'lambda y: (y-126*2)/126.0'\n",
    "      xlabel: 'X/D'\n",
    "      ylabel: 'Y/D'\n",
    "      cbar_nticks: 8\n",
    "      fontsize: 10\n",
    "      figsize: [8,3]\n",
    "      dpi: 125\n",
    "      plotturbines:\n",
    "      - basexyz: [0,0,0]\n",
    "        hubheight: 1.1\n",
    "        rotordiameter: 1\n",
    "        nacelledir: 270\n",
    "      savefile: movieframes/NREL5MW_wake_z90_{time:0.1f}.png\n",
    "    animate:\n",
    "      name: ../results/images/NREL5MW_movie.mp4\n",
    "      fps: 5\n",
    "      imagefilename: movieframes/NREL5MW_wake_z90_{time:0.1f}.png\n",
    "\"\"\"\n",
    "f = io.StringIO(stringReplaceDict(yamlstring, replacedict))\n",
    "yamldict = Loader(f, **loaderkwargs)\n",
    "yamldict['instantaneousplanes'][0]['times']=np.arange(15300, 15360, 1)"
   ]
  },
  {
   "cell_type": "code",
   "execution_count": 5,
   "id": "2949d2be-50ad-4df6-bd70-875104c4d3ba",
   "metadata": {},
   "outputs": [],
   "source": [
    "%%capture\n",
    "# Run the driver\n",
    "ppeng.driver(yamldict, verbose=True)"
   ]
  },
  {
   "cell_type": "code",
   "execution_count": 6,
   "id": "cf2624e3-303b-461b-a3d6-35a476327522",
   "metadata": {},
   "outputs": [],
   "source": [
    "# Create an animated GIF from the movie frames\n",
    "allframes=glob.glob('movieframes/*.png')\n",
    "images=[]\n",
    "for f in allframes:\n",
    "    img = cv2.imread(f)\n",
    "    if img is not None:\n",
    "        img_rgb = cv2.cvtColor(img, cv2.COLOR_BGR2RGB)\n",
    "        images.append(img_rgb)\n",
    "imageio.mimsave('../results/images/NREL5MW_movie.gif', images, fps=5)"
   ]
  },
  {
   "cell_type": "code",
   "execution_count": null,
   "id": "cac2957d-a165-496e-b462-9c19df60fbdf",
   "metadata": {},
   "outputs": [],
   "source": []
  }
 ],
 "metadata": {
  "kernelspec": {
   "display_name": "Python 3 (ipykernel)",
   "language": "python",
   "name": "python3"
  },
  "language_info": {
   "codemirror_mode": {
    "name": "ipython",
    "version": 3
   },
   "file_extension": ".py",
   "mimetype": "text/x-python",
   "name": "python",
   "nbconvert_exporter": "python",
   "pygments_lexer": "ipython3",
   "version": "3.9.12"
  }
 },
 "nbformat": 4,
 "nbformat_minor": 5
}
